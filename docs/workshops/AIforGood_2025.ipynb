{
  "cells": [
    {
      "cell_type": "markdown",
      "metadata": {
        "id": "view-in-github",
        "colab_type": "text"
      },
      "source": [
        "<a href=\"https://colab.research.google.com/github/canst/GeoAI-Tutorials/blob/main/docs/workshops/AIforGood_2025.ipynb\" target=\"_parent\"><img src=\"https://colab.research.google.com/assets/colab-badge.svg\" alt=\"Open In Colab\"/></a>"
      ]
    },
    {
      "cell_type": "markdown",
      "id": "0",
      "metadata": {
        "id": "0"
      },
      "source": [
        "# AI for Good Workshop 2025\n",
        "\n",
        "[![image](https://colab.research.google.com/assets/colab-badge.svg)](https://colab.research.google.com/github/opengeos/GeoAI-Tutorials/blob/main/docs/workshops/AIforGood_2025.ipynb)\n",
        "\n",
        "Join us for the AI for Good Workshop 2025, part of the UN's [AI for Good](https://aiforgood.itu.int) workshop series! This workshop will take place online on February 18, 2025, from 9:00 AM to 10:30 AM EST. It is free and open to the public. Please register using this link: [Modeling population dynamics with AI: A hands-on workshop with the Population Dynamics Foundation Model](https://aiforgood.itu.int/event/modeling-population-dynamics-with-ai-a-hands-on-workshop-with-the-population-dynamics-foundation-model).\n",
        "\n",
        "## Overview\n",
        "\n",
        "Explore the transformative potential of the Population Dynamics Foundation Model ([PDFM](https://github.com/google-research/population-dynamics)), a cutting-edge AI model designed to capture complex, multidimensional interactions among human behaviors, environmental factors, and local contexts. This workshop provides an in-depth introduction to PDFM Embeddings and their applications in geospatial analysis, public health, and socioeconomic modeling.\n",
        "\n",
        "Participants will gain hands-on experience with PDFM Embeddings to perform advanced geospatial predictions and analyses while ensuring privacy through the use of aggregated data. Key components of the workshop include:\n",
        "\n",
        "* **Introduction to PDFM Embeddings:** Delve into the model architecture of PDFM and discover how aggregated data (such as search trends, busyness levels, and weather conditions) generates location-specific embeddings.\n",
        "* **Data Preparation:** Learn to integrate ground truth data, including health statistics and socioeconomic indicators, with PDFM Embeddings at the postal code or county level.\n",
        "* **Hands-On Exercises:** Engage with interactive Colab notebooks to explore real-world applications, such as predicting housing prices using Zillow data and nighttime light predictions with Google Earth Engine data.\n",
        "* **Visualization and Interpretation:** Analyze and visualize geospatial predictions and PDFM features in 3D, enhancing your ability to interpret complex datasets.\n",
        "\n",
        "By the end of this workshop, participants will have a strong foundation in utilizing PDFM Embeddings to address real-world geospatial challenges.\n",
        "\n",
        "### Target audience\n",
        "\n",
        "This workshop is designed for data scientists, geospatial analysts, researchers, urban planners, and professionals in public health, economics, or environmental science who want to integrate AI into their workflows.\n",
        "\n",
        "### Prerequisites\n",
        "\n",
        "* A [Google Colab](https://colab.research.google.com) account\n",
        "* Access to the [PDFM embeddings](https://docs.google.com/forms/d/e/1FAIpQLSci4KYfdLfDhWzVTVoY_VPJ8jtQ9NGd95sQx-Cbji72JR3F6A/viewform)\n",
        "* Basic understanding of Python programming and geospatial data concepts is recommended\n",
        "\n",
        "## Recording\n",
        "\n",
        "The recording of the workshop will be made available on YouTube after the event. Stay tuned for the link!\n",
        "\n",
        "## Environment setup\n",
        "\n",
        "### Install the required packages locally\n",
        "\n",
        "If you are running this notebook locally, you can install the required packages using the following commands:\n",
        "\n",
        "```bash\n",
        "conda create -n sam python=3.12\n",
        "conda activate geo\n",
        "conda install -c conda-forge mamba\n",
        "mamba install -c conda-forge leafmap maplibre scikit-learn\n",
        "```\n",
        "\n",
        "### Use Google Colab\n",
        "\n",
        "If you are using Google Colab, run the following cell to install the required packages:"
      ]
    },
    {
      "cell_type": "code",
      "execution_count": 1,
      "id": "1",
      "metadata": {
        "id": "1",
        "outputId": "891f3f06-7f5a-4855-b2f8-9f5976e4315f",
        "colab": {
          "base_uri": "https://localhost:8080/"
        }
      },
      "outputs": [
        {
          "output_type": "stream",
          "name": "stdout",
          "text": [
            "Requirement already satisfied: scikit-learn in /usr/local/lib/python3.11/dist-packages (1.6.1)\n",
            "Collecting leafmap[maplibre]\n",
            "  Downloading leafmap-0.42.9-py2.py3-none-any.whl.metadata (16 kB)\n",
            "Collecting anywidget (from leafmap[maplibre])\n",
            "  Downloading anywidget-0.9.13-py3-none-any.whl.metadata (7.2 kB)\n",
            "Requirement already satisfied: bqplot in /usr/local/lib/python3.11/dist-packages (from leafmap[maplibre]) (0.12.44)\n",
            "Requirement already satisfied: colour in /usr/local/lib/python3.11/dist-packages (from leafmap[maplibre]) (0.1.5)\n",
            "Requirement already satisfied: duckdb in /usr/local/lib/python3.11/dist-packages (from leafmap[maplibre]) (1.1.3)\n",
            "Requirement already satisfied: folium in /usr/local/lib/python3.11/dist-packages (from leafmap[maplibre]) (0.19.4)\n",
            "Requirement already satisfied: gdown in /usr/local/lib/python3.11/dist-packages (from leafmap[maplibre]) (5.2.0)\n",
            "Collecting geojson (from leafmap[maplibre])\n",
            "  Downloading geojson-3.2.0-py3-none-any.whl.metadata (16 kB)\n",
            "Requirement already satisfied: ipyevents in /usr/local/lib/python3.11/dist-packages (from leafmap[maplibre]) (2.0.2)\n",
            "Requirement already satisfied: ipyfilechooser in /usr/local/lib/python3.11/dist-packages (from leafmap[maplibre]) (0.6.0)\n",
            "Requirement already satisfied: ipyleaflet in /usr/local/lib/python3.11/dist-packages (from leafmap[maplibre]) (0.19.2)\n",
            "Collecting ipyvuetify (from leafmap[maplibre])\n",
            "  Downloading ipyvuetify-1.10.0-py2.py3-none-any.whl.metadata (7.5 kB)\n",
            "Requirement already satisfied: ipywidgets in /usr/local/lib/python3.11/dist-packages (from leafmap[maplibre]) (7.7.1)\n",
            "Requirement already satisfied: matplotlib in /usr/local/lib/python3.11/dist-packages (from leafmap[maplibre]) (3.10.0)\n",
            "Requirement already satisfied: numpy in /usr/local/lib/python3.11/dist-packages (from leafmap[maplibre]) (1.26.4)\n",
            "Requirement already satisfied: pandas in /usr/local/lib/python3.11/dist-packages (from leafmap[maplibre]) (2.2.2)\n",
            "Requirement already satisfied: plotly in /usr/local/lib/python3.11/dist-packages (from leafmap[maplibre]) (5.24.1)\n",
            "Requirement already satisfied: psutil in /usr/local/lib/python3.11/dist-packages (from leafmap[maplibre]) (5.9.5)\n",
            "Requirement already satisfied: pyshp in /usr/local/lib/python3.11/dist-packages (from leafmap[maplibre]) (2.3.1)\n",
            "Collecting pystac-client (from leafmap[maplibre])\n",
            "  Downloading pystac_client-0.8.6-py3-none-any.whl.metadata (3.0 kB)\n",
            "Requirement already satisfied: python-box in /usr/local/lib/python3.11/dist-packages (from leafmap[maplibre]) (7.3.2)\n",
            "Requirement already satisfied: scooby in /usr/local/lib/python3.11/dist-packages (from leafmap[maplibre]) (0.10.0)\n",
            "Collecting whiteboxgui (from leafmap[maplibre])\n",
            "  Downloading whiteboxgui-2.3.0-py2.py3-none-any.whl.metadata (5.7 kB)\n",
            "Requirement already satisfied: xyzservices in /usr/local/lib/python3.11/dist-packages (from leafmap[maplibre]) (2025.1.0)\n",
            "Requirement already satisfied: geopandas in /usr/local/lib/python3.11/dist-packages (from leafmap[maplibre]) (1.0.1)\n",
            "Collecting h3 (from leafmap[maplibre])\n",
            "  Downloading h3-4.2.1-cp311-cp311-manylinux_2_17_x86_64.manylinux2014_x86_64.whl.metadata (18 kB)\n",
            "Collecting localtileserver (from leafmap[maplibre])\n",
            "  Downloading localtileserver-0.10.6-py3-none-any.whl.metadata (5.2 kB)\n",
            "Collecting mapclassify (from leafmap[maplibre])\n",
            "  Downloading mapclassify-2.8.1-py3-none-any.whl.metadata (2.8 kB)\n",
            "Collecting maplibre (from leafmap[maplibre])\n",
            "  Downloading maplibre-0.2.8-py3-none-any.whl.metadata (3.1 kB)\n",
            "Collecting pmtiles (from leafmap[maplibre])\n",
            "  Downloading pmtiles-3.4.1.tar.gz (13 kB)\n",
            "  Preparing metadata (setup.py) ... \u001b[?25l\u001b[?25hdone\n",
            "Collecting rioxarray (from leafmap[maplibre])\n",
            "  Downloading rioxarray-0.18.2-py3-none-any.whl.metadata (5.4 kB)\n",
            "Requirement already satisfied: xarray in /usr/local/lib/python3.11/dist-packages (from leafmap[maplibre]) (2025.1.2)\n",
            "Requirement already satisfied: scipy>=1.6.0 in /usr/local/lib/python3.11/dist-packages (from scikit-learn) (1.13.1)\n",
            "Requirement already satisfied: joblib>=1.2.0 in /usr/local/lib/python3.11/dist-packages (from scikit-learn) (1.4.2)\n",
            "Requirement already satisfied: threadpoolctl>=3.1.0 in /usr/local/lib/python3.11/dist-packages (from scikit-learn) (3.5.0)\n",
            "Collecting psygnal>=0.8.1 (from anywidget->leafmap[maplibre])\n",
            "  Downloading psygnal-0.12.0-cp311-cp311-manylinux_2_17_x86_64.manylinux2014_x86_64.whl.metadata (7.7 kB)\n",
            "Requirement already satisfied: typing-extensions>=4.2.0 in /usr/local/lib/python3.11/dist-packages (from anywidget->leafmap[maplibre]) (4.12.2)\n",
            "Requirement already satisfied: ipykernel>=4.5.1 in /usr/local/lib/python3.11/dist-packages (from ipywidgets->leafmap[maplibre]) (5.5.6)\n",
            "Requirement already satisfied: ipython-genutils~=0.2.0 in /usr/local/lib/python3.11/dist-packages (from ipywidgets->leafmap[maplibre]) (0.2.0)\n",
            "Requirement already satisfied: traitlets>=4.3.1 in /usr/local/lib/python3.11/dist-packages (from ipywidgets->leafmap[maplibre]) (5.7.1)\n",
            "Requirement already satisfied: widgetsnbextension~=3.6.0 in /usr/local/lib/python3.11/dist-packages (from ipywidgets->leafmap[maplibre]) (3.6.10)\n",
            "Requirement already satisfied: ipython>=4.0.0 in /usr/local/lib/python3.11/dist-packages (from ipywidgets->leafmap[maplibre]) (7.34.0)\n",
            "Requirement already satisfied: jupyterlab-widgets>=1.0.0 in /usr/local/lib/python3.11/dist-packages (from ipywidgets->leafmap[maplibre]) (3.0.13)\n",
            "Requirement already satisfied: traittypes>=0.0.6 in /usr/local/lib/python3.11/dist-packages (from bqplot->leafmap[maplibre]) (0.2.1)\n",
            "Requirement already satisfied: python-dateutil>=2.8.2 in /usr/local/lib/python3.11/dist-packages (from pandas->leafmap[maplibre]) (2.8.2)\n",
            "Requirement already satisfied: pytz>=2020.1 in /usr/local/lib/python3.11/dist-packages (from pandas->leafmap[maplibre]) (2025.1)\n",
            "Requirement already satisfied: tzdata>=2022.7 in /usr/local/lib/python3.11/dist-packages (from pandas->leafmap[maplibre]) (2025.1)\n",
            "Requirement already satisfied: branca>=0.6.0 in /usr/local/lib/python3.11/dist-packages (from folium->leafmap[maplibre]) (0.8.1)\n",
            "Requirement already satisfied: jinja2>=2.9 in /usr/local/lib/python3.11/dist-packages (from folium->leafmap[maplibre]) (3.1.5)\n",
            "Requirement already satisfied: requests in /usr/local/lib/python3.11/dist-packages (from folium->leafmap[maplibre]) (2.32.3)\n",
            "Requirement already satisfied: beautifulsoup4 in /usr/local/lib/python3.11/dist-packages (from gdown->leafmap[maplibre]) (4.13.3)\n",
            "Requirement already satisfied: filelock in /usr/local/lib/python3.11/dist-packages (from gdown->leafmap[maplibre]) (3.17.0)\n",
            "Requirement already satisfied: tqdm in /usr/local/lib/python3.11/dist-packages (from gdown->leafmap[maplibre]) (4.67.1)\n",
            "Requirement already satisfied: pyogrio>=0.7.2 in /usr/local/lib/python3.11/dist-packages (from geopandas->leafmap[maplibre]) (0.10.0)\n",
            "Requirement already satisfied: packaging in /usr/local/lib/python3.11/dist-packages (from geopandas->leafmap[maplibre]) (24.2)\n",
            "Requirement already satisfied: pyproj>=3.3.0 in /usr/local/lib/python3.11/dist-packages (from geopandas->leafmap[maplibre]) (3.7.0)\n",
            "Requirement already satisfied: shapely>=2.0.0 in /usr/local/lib/python3.11/dist-packages (from geopandas->leafmap[maplibre]) (2.0.7)\n",
            "Requirement already satisfied: jupyter-leaflet<0.20,>=0.19 in /usr/local/lib/python3.11/dist-packages (from ipyleaflet->leafmap[maplibre]) (0.19.2)\n",
            "Collecting ipyvue<2,>=1.7 (from ipyvuetify->leafmap[maplibre])\n",
            "  Downloading ipyvue-1.11.2-py2.py3-none-any.whl.metadata (1.1 kB)\n",
            "Requirement already satisfied: click in /usr/local/lib/python3.11/dist-packages (from localtileserver->leafmap[maplibre]) (8.1.8)\n",
            "Requirement already satisfied: flask<4,>=2.0.0 in /usr/local/lib/python3.11/dist-packages (from localtileserver->leafmap[maplibre]) (3.1.0)\n",
            "Collecting Flask-Caching (from localtileserver->leafmap[maplibre])\n",
            "  Downloading Flask_Caching-2.3.0-py3-none-any.whl.metadata (2.2 kB)\n",
            "Collecting flask-cors (from localtileserver->leafmap[maplibre])\n",
            "  Downloading Flask_Cors-5.0.0-py2.py3-none-any.whl.metadata (5.5 kB)\n",
            "Collecting flask-restx>=1.3.0 (from localtileserver->leafmap[maplibre])\n",
            "  Downloading flask_restx-1.3.0-py2.py3-none-any.whl.metadata (9.3 kB)\n",
            "Collecting rio-tiler (from localtileserver->leafmap[maplibre])\n",
            "  Downloading rio_tiler-7.4.0-py3-none-any.whl.metadata (12 kB)\n",
            "Collecting rio-cogeo (from localtileserver->leafmap[maplibre])\n",
            "  Downloading rio_cogeo-5.4.1-py3-none-any.whl.metadata (4.7 kB)\n",
            "Collecting server-thread (from localtileserver->leafmap[maplibre])\n",
            "  Downloading server_thread-0.3.0-py3-none-any.whl.metadata (5.3 kB)\n",
            "Requirement already satisfied: werkzeug in /usr/local/lib/python3.11/dist-packages (from localtileserver->leafmap[maplibre]) (3.1.3)\n",
            "Requirement already satisfied: networkx>=2.7 in /usr/local/lib/python3.11/dist-packages (from mapclassify->leafmap[maplibre]) (3.4.2)\n",
            "Collecting htmltools>=0.5.1 (from maplibre->leafmap[maplibre])\n",
            "  Downloading htmltools-0.6.0-py3-none-any.whl.metadata (3.3 kB)\n",
            "Requirement already satisfied: pydantic>=2.5.3 in /usr/local/lib/python3.11/dist-packages (from maplibre->leafmap[maplibre]) (2.10.6)\n",
            "Collecting shiny>=0.7.0 (from maplibre->leafmap[maplibre])\n",
            "  Downloading shiny-1.2.1-py3-none-any.whl.metadata (8.3 kB)\n",
            "Requirement already satisfied: contourpy>=1.0.1 in /usr/local/lib/python3.11/dist-packages (from matplotlib->leafmap[maplibre]) (1.3.1)\n",
            "Requirement already satisfied: cycler>=0.10 in /usr/local/lib/python3.11/dist-packages (from matplotlib->leafmap[maplibre]) (0.12.1)\n",
            "Requirement already satisfied: fonttools>=4.22.0 in /usr/local/lib/python3.11/dist-packages (from matplotlib->leafmap[maplibre]) (4.56.0)\n",
            "Requirement already satisfied: kiwisolver>=1.3.1 in /usr/local/lib/python3.11/dist-packages (from matplotlib->leafmap[maplibre]) (1.4.8)\n",
            "Requirement already satisfied: pillow>=8 in /usr/local/lib/python3.11/dist-packages (from matplotlib->leafmap[maplibre]) (11.1.0)\n",
            "Requirement already satisfied: pyparsing>=2.3.1 in /usr/local/lib/python3.11/dist-packages (from matplotlib->leafmap[maplibre]) (3.2.1)\n",
            "Requirement already satisfied: tenacity>=6.2.0 in /usr/local/lib/python3.11/dist-packages (from plotly->leafmap[maplibre]) (9.0.0)\n",
            "Collecting pystac>=1.10.0 (from pystac[validation]>=1.10.0->pystac-client->leafmap[maplibre])\n",
            "  Downloading pystac-1.12.1-py3-none-any.whl.metadata (4.6 kB)\n",
            "Collecting rasterio>=1.3.7 (from rioxarray->leafmap[maplibre])\n",
            "  Downloading rasterio-1.4.3-cp311-cp311-manylinux_2_17_x86_64.manylinux2014_x86_64.whl.metadata (9.1 kB)\n",
            "Requirement already satisfied: ipytree in /usr/local/lib/python3.11/dist-packages (from whiteboxgui->leafmap[maplibre]) (0.2.2)\n",
            "Collecting whitebox (from whiteboxgui->leafmap[maplibre])\n",
            "  Downloading whitebox-2.3.5-py2.py3-none-any.whl.metadata (10 kB)\n",
            "Requirement already satisfied: itsdangerous>=2.2 in /usr/local/lib/python3.11/dist-packages (from flask<4,>=2.0.0->localtileserver->leafmap[maplibre]) (2.2.0)\n",
            "Requirement already satisfied: blinker>=1.9 in /usr/local/lib/python3.11/dist-packages (from flask<4,>=2.0.0->localtileserver->leafmap[maplibre]) (1.9.0)\n",
            "Collecting aniso8601>=0.82 (from flask-restx>=1.3.0->localtileserver->leafmap[maplibre])\n",
            "  Downloading aniso8601-10.0.0-py2.py3-none-any.whl.metadata (23 kB)\n",
            "Requirement already satisfied: jsonschema in /usr/local/lib/python3.11/dist-packages (from flask-restx>=1.3.0->localtileserver->leafmap[maplibre]) (4.23.0)\n",
            "Requirement already satisfied: importlib-resources in /usr/local/lib/python3.11/dist-packages (from flask-restx>=1.3.0->localtileserver->leafmap[maplibre]) (6.5.2)\n",
            "Requirement already satisfied: jupyter-client in /usr/local/lib/python3.11/dist-packages (from ipykernel>=4.5.1->ipywidgets->leafmap[maplibre]) (6.1.12)\n",
            "Requirement already satisfied: tornado>=4.2 in /usr/local/lib/python3.11/dist-packages (from ipykernel>=4.5.1->ipywidgets->leafmap[maplibre]) (6.4.2)\n",
            "Requirement already satisfied: setuptools>=18.5 in /usr/local/lib/python3.11/dist-packages (from ipython>=4.0.0->ipywidgets->leafmap[maplibre]) (75.1.0)\n",
            "Collecting jedi>=0.16 (from ipython>=4.0.0->ipywidgets->leafmap[maplibre])\n",
            "  Downloading jedi-0.19.2-py2.py3-none-any.whl.metadata (22 kB)\n",
            "Requirement already satisfied: decorator in /usr/local/lib/python3.11/dist-packages (from ipython>=4.0.0->ipywidgets->leafmap[maplibre]) (4.4.2)\n",
            "Requirement already satisfied: pickleshare in /usr/local/lib/python3.11/dist-packages (from ipython>=4.0.0->ipywidgets->leafmap[maplibre]) (0.7.5)\n",
            "Requirement already satisfied: prompt-toolkit!=3.0.0,!=3.0.1,<3.1.0,>=2.0.0 in /usr/local/lib/python3.11/dist-packages (from ipython>=4.0.0->ipywidgets->leafmap[maplibre]) (3.0.50)\n",
            "Requirement already satisfied: pygments in /usr/local/lib/python3.11/dist-packages (from ipython>=4.0.0->ipywidgets->leafmap[maplibre]) (2.18.0)\n",
            "Requirement already satisfied: backcall in /usr/local/lib/python3.11/dist-packages (from ipython>=4.0.0->ipywidgets->leafmap[maplibre]) (0.2.0)\n",
            "Requirement already satisfied: matplotlib-inline in /usr/local/lib/python3.11/dist-packages (from ipython>=4.0.0->ipywidgets->leafmap[maplibre]) (0.1.7)\n",
            "Requirement already satisfied: pexpect>4.3 in /usr/local/lib/python3.11/dist-packages (from ipython>=4.0.0->ipywidgets->leafmap[maplibre]) (4.9.0)\n",
            "Requirement already satisfied: MarkupSafe>=2.0 in /usr/local/lib/python3.11/dist-packages (from jinja2>=2.9->folium->leafmap[maplibre]) (3.0.2)\n",
            "Requirement already satisfied: annotated-types>=0.6.0 in /usr/local/lib/python3.11/dist-packages (from pydantic>=2.5.3->maplibre->leafmap[maplibre]) (0.7.0)\n",
            "Requirement already satisfied: pydantic-core==2.27.2 in /usr/local/lib/python3.11/dist-packages (from pydantic>=2.5.3->maplibre->leafmap[maplibre]) (2.27.2)\n",
            "Requirement already satisfied: certifi in /usr/local/lib/python3.11/dist-packages (from pyogrio>=0.7.2->geopandas->leafmap[maplibre]) (2025.1.31)\n",
            "Requirement already satisfied: six>=1.5 in /usr/local/lib/python3.11/dist-packages (from python-dateutil>=2.8.2->pandas->leafmap[maplibre]) (1.17.0)\n",
            "Collecting affine (from rasterio>=1.3.7->rioxarray->leafmap[maplibre])\n",
            "  Downloading affine-2.4.0-py3-none-any.whl.metadata (4.0 kB)\n",
            "Requirement already satisfied: attrs in /usr/local/lib/python3.11/dist-packages (from rasterio>=1.3.7->rioxarray->leafmap[maplibre]) (25.1.0)\n",
            "Collecting cligj>=0.5 (from rasterio>=1.3.7->rioxarray->leafmap[maplibre])\n",
            "  Downloading cligj-0.7.2-py3-none-any.whl.metadata (5.0 kB)\n",
            "Collecting click-plugins (from rasterio>=1.3.7->rioxarray->leafmap[maplibre])\n",
            "  Downloading click_plugins-1.1.1-py2.py3-none-any.whl.metadata (6.4 kB)\n",
            "Requirement already satisfied: charset-normalizer<4,>=2 in /usr/local/lib/python3.11/dist-packages (from requests->folium->leafmap[maplibre]) (3.4.1)\n",
            "Requirement already satisfied: idna<4,>=2.5 in /usr/local/lib/python3.11/dist-packages (from requests->folium->leafmap[maplibre]) (3.10)\n",
            "Requirement already satisfied: urllib3<3,>=1.21.1 in /usr/local/lib/python3.11/dist-packages (from requests->folium->leafmap[maplibre]) (2.3.0)\n",
            "Collecting starlette (from shiny>=0.7.0->maplibre->leafmap[maplibre])\n",
            "  Downloading starlette-0.45.3-py3-none-any.whl.metadata (6.3 kB)\n",
            "Requirement already satisfied: websockets>=13.0 in /usr/local/lib/python3.11/dist-packages (from shiny>=0.7.0->maplibre->leafmap[maplibre]) (14.2)\n",
            "Collecting python-multipart (from shiny>=0.7.0->maplibre->leafmap[maplibre])\n",
            "  Downloading python_multipart-0.0.20-py3-none-any.whl.metadata (1.8 kB)\n",
            "Requirement already satisfied: markdown-it-py>=1.1.0 in /usr/local/lib/python3.11/dist-packages (from shiny>=0.7.0->maplibre->leafmap[maplibre]) (3.0.0)\n",
            "Requirement already satisfied: mdit-py-plugins>=0.3.0 in /usr/local/lib/python3.11/dist-packages (from shiny>=0.7.0->maplibre->leafmap[maplibre]) (0.4.2)\n",
            "Requirement already satisfied: linkify-it-py>=1.0 in /usr/local/lib/python3.11/dist-packages (from shiny>=0.7.0->maplibre->leafmap[maplibre]) (2.0.3)\n",
            "Collecting appdirs>=1.4.4 (from shiny>=0.7.0->maplibre->leafmap[maplibre])\n",
            "  Downloading appdirs-1.4.4-py2.py3-none-any.whl.metadata (9.0 kB)\n",
            "Collecting asgiref>=3.5.2 (from shiny>=0.7.0->maplibre->leafmap[maplibre])\n",
            "  Downloading asgiref-3.8.1-py3-none-any.whl.metadata (9.3 kB)\n",
            "Requirement already satisfied: narwhals>=1.10.0 in /usr/local/lib/python3.11/dist-packages (from shiny>=0.7.0->maplibre->leafmap[maplibre]) (1.26.0)\n",
            "Requirement already satisfied: orjson>=3.10.7 in /usr/local/lib/python3.11/dist-packages (from shiny>=0.7.0->maplibre->leafmap[maplibre]) (3.10.15)\n",
            "Collecting uvicorn>=0.16.0 (from shiny>=0.7.0->maplibre->leafmap[maplibre])\n",
            "  Downloading uvicorn-0.34.0-py3-none-any.whl.metadata (6.5 kB)\n",
            "Collecting watchfiles>=0.18.0 (from shiny>=0.7.0->maplibre->leafmap[maplibre])\n",
            "  Downloading watchfiles-1.0.4-cp311-cp311-manylinux_2_17_x86_64.manylinux2014_x86_64.whl.metadata (4.9 kB)\n",
            "Collecting questionary>=2.0.0 (from shiny>=0.7.0->maplibre->leafmap[maplibre])\n",
            "  Downloading questionary-2.1.0-py3-none-any.whl.metadata (5.4 kB)\n",
            "Requirement already satisfied: notebook>=4.4.1 in /usr/local/lib/python3.11/dist-packages (from widgetsnbextension~=3.6.0->ipywidgets->leafmap[maplibre]) (6.5.5)\n",
            "Requirement already satisfied: soupsieve>1.2 in /usr/local/lib/python3.11/dist-packages (from beautifulsoup4->gdown->leafmap[maplibre]) (2.6)\n",
            "Collecting cachelib<0.10.0,>=0.9.0 (from Flask-Caching->localtileserver->leafmap[maplibre])\n",
            "  Downloading cachelib-0.9.0-py3-none-any.whl.metadata (1.9 kB)\n",
            "Requirement already satisfied: PySocks!=1.5.7,>=1.5.6 in /usr/local/lib/python3.11/dist-packages (from requests[socks]->gdown->leafmap[maplibre]) (1.7.1)\n",
            "Collecting morecantile<7.0,>=5.0 (from rio-cogeo->localtileserver->leafmap[maplibre])\n",
            "  Downloading morecantile-6.2.0-py3-none-any.whl.metadata (7.3 kB)\n",
            "Requirement already satisfied: cachetools in /usr/local/lib/python3.11/dist-packages (from rio-tiler->localtileserver->leafmap[maplibre]) (5.5.1)\n",
            "Collecting color-operations (from rio-tiler->localtileserver->leafmap[maplibre])\n",
            "  Downloading color_operations-0.1.6-cp311-cp311-manylinux_2_5_x86_64.manylinux1_x86_64.manylinux_2_17_x86_64.manylinux2014_x86_64.whl.metadata (6.0 kB)\n",
            "Requirement already satisfied: httpx in /usr/local/lib/python3.11/dist-packages (from rio-tiler->localtileserver->leafmap[maplibre]) (0.28.1)\n",
            "Requirement already satisfied: numexpr in /usr/local/lib/python3.11/dist-packages (from rio-tiler->localtileserver->leafmap[maplibre]) (2.10.2)\n",
            "Requirement already satisfied: parso<0.9.0,>=0.8.4 in /usr/local/lib/python3.11/dist-packages (from jedi>=0.16->ipython>=4.0.0->ipywidgets->leafmap[maplibre]) (0.8.4)\n",
            "Requirement already satisfied: jsonschema-specifications>=2023.03.6 in /usr/local/lib/python3.11/dist-packages (from jsonschema->flask-restx>=1.3.0->localtileserver->leafmap[maplibre]) (2024.10.1)\n",
            "Requirement already satisfied: referencing>=0.28.4 in /usr/local/lib/python3.11/dist-packages (from jsonschema->flask-restx>=1.3.0->localtileserver->leafmap[maplibre]) (0.36.2)\n",
            "Requirement already satisfied: rpds-py>=0.7.1 in /usr/local/lib/python3.11/dist-packages (from jsonschema->flask-restx>=1.3.0->localtileserver->leafmap[maplibre]) (0.22.3)\n",
            "Requirement already satisfied: uc-micro-py in /usr/local/lib/python3.11/dist-packages (from linkify-it-py>=1.0->shiny>=0.7.0->maplibre->leafmap[maplibre]) (1.0.3)\n",
            "Requirement already satisfied: mdurl~=0.1 in /usr/local/lib/python3.11/dist-packages (from markdown-it-py>=1.1.0->shiny>=0.7.0->maplibre->leafmap[maplibre]) (0.1.2)\n",
            "Requirement already satisfied: pyzmq<25,>=17 in /usr/local/lib/python3.11/dist-packages (from notebook>=4.4.1->widgetsnbextension~=3.6.0->ipywidgets->leafmap[maplibre]) (24.0.1)\n",
            "Requirement already satisfied: argon2-cffi in /usr/local/lib/python3.11/dist-packages (from notebook>=4.4.1->widgetsnbextension~=3.6.0->ipywidgets->leafmap[maplibre]) (23.1.0)\n",
            "Requirement already satisfied: jupyter-core>=4.6.1 in /usr/local/lib/python3.11/dist-packages (from notebook>=4.4.1->widgetsnbextension~=3.6.0->ipywidgets->leafmap[maplibre]) (5.7.2)\n",
            "Requirement already satisfied: nbformat in /usr/local/lib/python3.11/dist-packages (from notebook>=4.4.1->widgetsnbextension~=3.6.0->ipywidgets->leafmap[maplibre]) (5.10.4)\n",
            "Requirement already satisfied: nbconvert>=5 in /usr/local/lib/python3.11/dist-packages (from notebook>=4.4.1->widgetsnbextension~=3.6.0->ipywidgets->leafmap[maplibre]) (7.16.6)\n",
            "Requirement already satisfied: nest-asyncio>=1.5 in /usr/local/lib/python3.11/dist-packages (from notebook>=4.4.1->widgetsnbextension~=3.6.0->ipywidgets->leafmap[maplibre]) (1.6.0)\n",
            "Requirement already satisfied: Send2Trash>=1.8.0 in /usr/local/lib/python3.11/dist-packages (from notebook>=4.4.1->widgetsnbextension~=3.6.0->ipywidgets->leafmap[maplibre]) (1.8.3)\n",
            "Requirement already satisfied: terminado>=0.8.3 in /usr/local/lib/python3.11/dist-packages (from notebook>=4.4.1->widgetsnbextension~=3.6.0->ipywidgets->leafmap[maplibre]) (0.18.1)\n",
            "Requirement already satisfied: prometheus-client in /usr/local/lib/python3.11/dist-packages (from notebook>=4.4.1->widgetsnbextension~=3.6.0->ipywidgets->leafmap[maplibre]) (0.21.1)\n",
            "Requirement already satisfied: nbclassic>=0.4.7 in /usr/local/lib/python3.11/dist-packages (from notebook>=4.4.1->widgetsnbextension~=3.6.0->ipywidgets->leafmap[maplibre]) (1.2.0)\n",
            "Requirement already satisfied: ptyprocess>=0.5 in /usr/local/lib/python3.11/dist-packages (from pexpect>4.3->ipython>=4.0.0->ipywidgets->leafmap[maplibre]) (0.7.0)\n",
            "Requirement already satisfied: wcwidth in /usr/local/lib/python3.11/dist-packages (from prompt-toolkit!=3.0.0,!=3.0.1,<3.1.0,>=2.0.0->ipython>=4.0.0->ipywidgets->leafmap[maplibre]) (0.2.13)\n",
            "Requirement already satisfied: h11>=0.8 in /usr/local/lib/python3.11/dist-packages (from uvicorn>=0.16.0->shiny>=0.7.0->maplibre->leafmap[maplibre]) (0.14.0)\n",
            "Requirement already satisfied: anyio>=3.0.0 in /usr/local/lib/python3.11/dist-packages (from watchfiles>=0.18.0->shiny>=0.7.0->maplibre->leafmap[maplibre]) (3.7.1)\n",
            "Requirement already satisfied: httpcore==1.* in /usr/local/lib/python3.11/dist-packages (from httpx->rio-tiler->localtileserver->leafmap[maplibre]) (1.0.7)\n",
            "Requirement already satisfied: sniffio>=1.1 in /usr/local/lib/python3.11/dist-packages (from anyio>=3.0.0->watchfiles>=0.18.0->shiny>=0.7.0->maplibre->leafmap[maplibre]) (1.3.1)\n",
            "Requirement already satisfied: platformdirs>=2.5 in /usr/local/lib/python3.11/dist-packages (from jupyter-core>=4.6.1->notebook>=4.4.1->widgetsnbextension~=3.6.0->ipywidgets->leafmap[maplibre]) (4.3.6)\n",
            "Requirement already satisfied: notebook-shim>=0.2.3 in /usr/local/lib/python3.11/dist-packages (from nbclassic>=0.4.7->notebook>=4.4.1->widgetsnbextension~=3.6.0->ipywidgets->leafmap[maplibre]) (0.2.4)\n",
            "Requirement already satisfied: bleach!=5.0.0 in /usr/local/lib/python3.11/dist-packages (from bleach[css]!=5.0.0->nbconvert>=5->notebook>=4.4.1->widgetsnbextension~=3.6.0->ipywidgets->leafmap[maplibre]) (6.2.0)\n",
            "Requirement already satisfied: defusedxml in /usr/local/lib/python3.11/dist-packages (from nbconvert>=5->notebook>=4.4.1->widgetsnbextension~=3.6.0->ipywidgets->leafmap[maplibre]) (0.7.1)\n",
            "Requirement already satisfied: jupyterlab-pygments in /usr/local/lib/python3.11/dist-packages (from nbconvert>=5->notebook>=4.4.1->widgetsnbextension~=3.6.0->ipywidgets->leafmap[maplibre]) (0.3.0)\n",
            "Requirement already satisfied: mistune<4,>=2.0.3 in /usr/local/lib/python3.11/dist-packages (from nbconvert>=5->notebook>=4.4.1->widgetsnbextension~=3.6.0->ipywidgets->leafmap[maplibre]) (3.1.1)\n",
            "Requirement already satisfied: nbclient>=0.5.0 in /usr/local/lib/python3.11/dist-packages (from nbconvert>=5->notebook>=4.4.1->widgetsnbextension~=3.6.0->ipywidgets->leafmap[maplibre]) (0.10.2)\n",
            "Requirement already satisfied: pandocfilters>=1.4.1 in /usr/local/lib/python3.11/dist-packages (from nbconvert>=5->notebook>=4.4.1->widgetsnbextension~=3.6.0->ipywidgets->leafmap[maplibre]) (1.5.1)\n",
            "Requirement already satisfied: fastjsonschema>=2.15 in /usr/local/lib/python3.11/dist-packages (from nbformat->notebook>=4.4.1->widgetsnbextension~=3.6.0->ipywidgets->leafmap[maplibre]) (2.21.1)\n",
            "Requirement already satisfied: argon2-cffi-bindings in /usr/local/lib/python3.11/dist-packages (from argon2-cffi->notebook>=4.4.1->widgetsnbextension~=3.6.0->ipywidgets->leafmap[maplibre]) (21.2.0)\n",
            "Requirement already satisfied: webencodings in /usr/local/lib/python3.11/dist-packages (from bleach!=5.0.0->bleach[css]!=5.0.0->nbconvert>=5->notebook>=4.4.1->widgetsnbextension~=3.6.0->ipywidgets->leafmap[maplibre]) (0.5.1)\n",
            "Requirement already satisfied: tinycss2<1.5,>=1.1.0 in /usr/local/lib/python3.11/dist-packages (from bleach[css]!=5.0.0->nbconvert>=5->notebook>=4.4.1->widgetsnbextension~=3.6.0->ipywidgets->leafmap[maplibre]) (1.4.0)\n",
            "Requirement already satisfied: jupyter-server<3,>=1.8 in /usr/local/lib/python3.11/dist-packages (from notebook-shim>=0.2.3->nbclassic>=0.4.7->notebook>=4.4.1->widgetsnbextension~=3.6.0->ipywidgets->leafmap[maplibre]) (1.24.0)\n",
            "Requirement already satisfied: cffi>=1.0.1 in /usr/local/lib/python3.11/dist-packages (from argon2-cffi-bindings->argon2-cffi->notebook>=4.4.1->widgetsnbextension~=3.6.0->ipywidgets->leafmap[maplibre]) (1.17.1)\n",
            "Requirement already satisfied: pycparser in /usr/local/lib/python3.11/dist-packages (from cffi>=1.0.1->argon2-cffi-bindings->argon2-cffi->notebook>=4.4.1->widgetsnbextension~=3.6.0->ipywidgets->leafmap[maplibre]) (2.22)\n",
            "Requirement already satisfied: websocket-client in /usr/local/lib/python3.11/dist-packages (from jupyter-server<3,>=1.8->notebook-shim>=0.2.3->nbclassic>=0.4.7->notebook>=4.4.1->widgetsnbextension~=3.6.0->ipywidgets->leafmap[maplibre]) (1.8.0)\n",
            "Downloading anywidget-0.9.13-py3-none-any.whl (213 kB)\n",
            "\u001b[2K   \u001b[90m━━━━━━━━━━━━━━━━━━━━━━━━━━━━━━━━━━━━━━━━\u001b[0m \u001b[32m213.7/213.7 kB\u001b[0m \u001b[31m3.6 MB/s\u001b[0m eta \u001b[36m0:00:00\u001b[0m\n",
            "\u001b[?25hDownloading geojson-3.2.0-py3-none-any.whl (15 kB)\n",
            "Downloading h3-4.2.1-cp311-cp311-manylinux_2_17_x86_64.manylinux2014_x86_64.whl (1.0 MB)\n",
            "\u001b[2K   \u001b[90m━━━━━━━━━━━━━━━━━━━━━━━━━━━━━━━━━━━━━━━━\u001b[0m \u001b[32m1.0/1.0 MB\u001b[0m \u001b[31m19.4 MB/s\u001b[0m eta \u001b[36m0:00:00\u001b[0m\n",
            "\u001b[?25hDownloading ipyvuetify-1.10.0-py2.py3-none-any.whl (6.1 MB)\n",
            "\u001b[2K   \u001b[90m━━━━━━━━━━━━━━━━━━━━━━━━━━━━━━━━━━━━━━━━\u001b[0m \u001b[32m6.1/6.1 MB\u001b[0m \u001b[31m55.3 MB/s\u001b[0m eta \u001b[36m0:00:00\u001b[0m\n",
            "\u001b[?25hDownloading leafmap-0.42.9-py2.py3-none-any.whl (515 kB)\n",
            "\u001b[2K   \u001b[90m━━━━━━━━━━━━━━━━━━━━━━━━━━━━━━━━━━━━━━━━\u001b[0m \u001b[32m515.2/515.2 kB\u001b[0m \u001b[31m13.8 MB/s\u001b[0m eta \u001b[36m0:00:00\u001b[0m\n",
            "\u001b[?25hDownloading localtileserver-0.10.6-py3-none-any.whl (17.1 MB)\n",
            "\u001b[2K   \u001b[90m━━━━━━━━━━━━━━━━━━━━━━━━━━━━━━━━━━━━━━━━\u001b[0m \u001b[32m17.1/17.1 MB\u001b[0m \u001b[31m53.1 MB/s\u001b[0m eta \u001b[36m0:00:00\u001b[0m\n",
            "\u001b[?25hDownloading mapclassify-2.8.1-py3-none-any.whl (59 kB)\n",
            "\u001b[2K   \u001b[90m━━━━━━━━━━━━━━━━━━━━━━━━━━━━━━━━━━━━━━━━\u001b[0m \u001b[32m59.1/59.1 kB\u001b[0m \u001b[31m3.8 MB/s\u001b[0m eta \u001b[36m0:00:00\u001b[0m\n",
            "\u001b[?25hDownloading maplibre-0.2.8-py3-none-any.whl (677 kB)\n",
            "\u001b[2K   \u001b[90m━━━━━━━━━━━━━━━━━━━━━━━━━━━━━━━━━━━━━━━━\u001b[0m \u001b[32m677.5/677.5 kB\u001b[0m \u001b[31m26.4 MB/s\u001b[0m eta \u001b[36m0:00:00\u001b[0m\n",
            "\u001b[?25hDownloading pystac_client-0.8.6-py3-none-any.whl (41 kB)\n",
            "\u001b[2K   \u001b[90m━━━━━━━━━━━━━━━━━━━━━━━━━━━━━━━━━━━━━━━━\u001b[0m \u001b[32m41.4/41.4 kB\u001b[0m \u001b[31m2.2 MB/s\u001b[0m eta \u001b[36m0:00:00\u001b[0m\n",
            "\u001b[?25hDownloading rioxarray-0.18.2-py3-none-any.whl (61 kB)\n",
            "\u001b[2K   \u001b[90m━━━━━━━━━━━━━━━━━━━━━━━━━━━━━━━━━━━━━━━━\u001b[0m \u001b[32m61.9/61.9 kB\u001b[0m \u001b[31m4.0 MB/s\u001b[0m eta \u001b[36m0:00:00\u001b[0m\n",
            "\u001b[?25hDownloading whiteboxgui-2.3.0-py2.py3-none-any.whl (108 kB)\n",
            "\u001b[2K   \u001b[90m━━━━━━━━━━━━━━━━━━━━━━━━━━━━━━━━━━━━━━━━\u001b[0m \u001b[32m108.6/108.6 kB\u001b[0m \u001b[31m7.3 MB/s\u001b[0m eta \u001b[36m0:00:00\u001b[0m\n",
            "\u001b[?25hDownloading flask_restx-1.3.0-py2.py3-none-any.whl (2.8 MB)\n",
            "\u001b[2K   \u001b[90m━━━━━━━━━━━━━━━━━━━━━━━━━━━━━━━━━━━━━━━━\u001b[0m \u001b[32m2.8/2.8 MB\u001b[0m \u001b[31m60.1 MB/s\u001b[0m eta \u001b[36m0:00:00\u001b[0m\n",
            "\u001b[?25hDownloading htmltools-0.6.0-py3-none-any.whl (84 kB)\n",
            "\u001b[2K   \u001b[90m━━━━━━━━━━━━━━━━━━━━━━━━━━━━━━━━━━━━━━━━\u001b[0m \u001b[32m85.0/85.0 kB\u001b[0m \u001b[31m6.5 MB/s\u001b[0m eta \u001b[36m0:00:00\u001b[0m\n",
            "\u001b[?25hDownloading ipyvue-1.11.2-py2.py3-none-any.whl (2.7 MB)\n",
            "\u001b[2K   \u001b[90m━━━━━━━━━━━━━━━━━━━━━━━━━━━━━━━━━━━━━━━━\u001b[0m \u001b[32m2.7/2.7 MB\u001b[0m \u001b[31m46.4 MB/s\u001b[0m eta \u001b[36m0:00:00\u001b[0m\n",
            "\u001b[?25hDownloading psygnal-0.12.0-cp311-cp311-manylinux_2_17_x86_64.manylinux2014_x86_64.whl (765 kB)\n",
            "\u001b[2K   \u001b[90m━━━━━━━━━━━━━━━━━━━━━━━━━━━━━━━━━━━━━━━━\u001b[0m \u001b[32m765.5/765.5 kB\u001b[0m \u001b[31m27.9 MB/s\u001b[0m eta \u001b[36m0:00:00\u001b[0m\n",
            "\u001b[?25hDownloading pystac-1.12.1-py3-none-any.whl (194 kB)\n",
            "\u001b[2K   \u001b[90m━━━━━━━━━━━━━━━━━━━━━━━━━━━━━━━━━━━━━━━━\u001b[0m \u001b[32m194.2/194.2 kB\u001b[0m \u001b[31m11.0 MB/s\u001b[0m eta \u001b[36m0:00:00\u001b[0m\n",
            "\u001b[?25hDownloading rasterio-1.4.3-cp311-cp311-manylinux_2_17_x86_64.manylinux2014_x86_64.whl (22.2 MB)\n",
            "\u001b[2K   \u001b[90m━━━━━━━━━━━━━━━━━━━━━━━━━━━━━━━━━━━━━━━━\u001b[0m \u001b[32m22.2/22.2 MB\u001b[0m \u001b[31m61.3 MB/s\u001b[0m eta \u001b[36m0:00:00\u001b[0m\n",
            "\u001b[?25hDownloading shiny-1.2.1-py3-none-any.whl (4.3 MB)\n",
            "\u001b[2K   \u001b[90m━━━━━━━━━━━━━━━━━━━━━━━━━━━━━━━━━━━━━━━━\u001b[0m \u001b[32m4.3/4.3 MB\u001b[0m \u001b[31m60.8 MB/s\u001b[0m eta \u001b[36m0:00:00\u001b[0m\n",
            "\u001b[?25hDownloading Flask_Caching-2.3.0-py3-none-any.whl (28 kB)\n",
            "Downloading Flask_Cors-5.0.0-py2.py3-none-any.whl (14 kB)\n",
            "Downloading rio_cogeo-5.4.1-py3-none-any.whl (20 kB)\n",
            "Downloading rio_tiler-7.4.0-py3-none-any.whl (266 kB)\n",
            "\u001b[2K   \u001b[90m━━━━━━━━━━━━━━━━━━━━━━━━━━━━━━━━━━━━━━━━\u001b[0m \u001b[32m266.5/266.5 kB\u001b[0m \u001b[31m13.9 MB/s\u001b[0m eta \u001b[36m0:00:00\u001b[0m\n",
            "\u001b[?25hDownloading server_thread-0.3.0-py3-none-any.whl (6.6 kB)\n",
            "Downloading whitebox-2.3.5-py2.py3-none-any.whl (72 kB)\n",
            "\u001b[2K   \u001b[90m━━━━━━━━━━━━━━━━━━━━━━━━━━━━━━━━━━━━━━━━\u001b[0m \u001b[32m72.4/72.4 kB\u001b[0m \u001b[31m4.3 MB/s\u001b[0m eta \u001b[36m0:00:00\u001b[0m\n",
            "\u001b[?25hDownloading aniso8601-10.0.0-py2.py3-none-any.whl (52 kB)\n",
            "\u001b[2K   \u001b[90m━━━━━━━━━━━━━━━━━━━━━━━━━━━━━━━━━━━━━━━━\u001b[0m \u001b[32m52.8/52.8 kB\u001b[0m \u001b[31m3.3 MB/s\u001b[0m eta \u001b[36m0:00:00\u001b[0m\n",
            "\u001b[?25hDownloading appdirs-1.4.4-py2.py3-none-any.whl (9.6 kB)\n",
            "Downloading asgiref-3.8.1-py3-none-any.whl (23 kB)\n",
            "Downloading cachelib-0.9.0-py3-none-any.whl (15 kB)\n",
            "Downloading cligj-0.7.2-py3-none-any.whl (7.1 kB)\n",
            "Downloading jedi-0.19.2-py2.py3-none-any.whl (1.6 MB)\n",
            "\u001b[2K   \u001b[90m━━━━━━━━━━━━━━━━━━━━━━━━━━━━━━━━━━━━━━━━\u001b[0m \u001b[32m1.6/1.6 MB\u001b[0m \u001b[31m36.6 MB/s\u001b[0m eta \u001b[36m0:00:00\u001b[0m\n",
            "\u001b[?25hDownloading morecantile-6.2.0-py3-none-any.whl (49 kB)\n",
            "\u001b[2K   \u001b[90m━━━━━━━━━━━━━━━━━━━━━━━━━━━━━━━━━━━━━━━━\u001b[0m \u001b[32m49.5/49.5 kB\u001b[0m \u001b[31m2.5 MB/s\u001b[0m eta \u001b[36m0:00:00\u001b[0m\n",
            "\u001b[?25hDownloading python_multipart-0.0.20-py3-none-any.whl (24 kB)\n",
            "Downloading questionary-2.1.0-py3-none-any.whl (36 kB)\n",
            "Downloading uvicorn-0.34.0-py3-none-any.whl (62 kB)\n",
            "\u001b[2K   \u001b[90m━━━━━━━━━━━━━━━━━━━━━━━━━━━━━━━━━━━━━━━━\u001b[0m \u001b[32m62.3/62.3 kB\u001b[0m \u001b[31m4.1 MB/s\u001b[0m eta \u001b[36m0:00:00\u001b[0m\n",
            "\u001b[?25hDownloading watchfiles-1.0.4-cp311-cp311-manylinux_2_17_x86_64.manylinux2014_x86_64.whl (452 kB)\n",
            "\u001b[2K   \u001b[90m━━━━━━━━━━━━━━━━━━━━━━━━━━━━━━━━━━━━━━━━\u001b[0m \u001b[32m452.6/452.6 kB\u001b[0m \u001b[31m26.5 MB/s\u001b[0m eta \u001b[36m0:00:00\u001b[0m\n",
            "\u001b[?25hDownloading affine-2.4.0-py3-none-any.whl (15 kB)\n",
            "Downloading click_plugins-1.1.1-py2.py3-none-any.whl (7.5 kB)\n",
            "Downloading color_operations-0.1.6-cp311-cp311-manylinux_2_5_x86_64.manylinux1_x86_64.manylinux_2_17_x86_64.manylinux2014_x86_64.whl (195 kB)\n",
            "\u001b[2K   \u001b[90m━━━━━━━━━━━━━━━━━━━━━━━━━━━━━━━━━━━━━━━━\u001b[0m \u001b[32m195.0/195.0 kB\u001b[0m \u001b[31m13.3 MB/s\u001b[0m eta \u001b[36m0:00:00\u001b[0m\n",
            "\u001b[?25hDownloading starlette-0.45.3-py3-none-any.whl (71 kB)\n",
            "\u001b[2K   \u001b[90m━━━━━━━━━━━━━━━━━━━━━━━━━━━━━━━━━━━━━━━━\u001b[0m \u001b[32m71.5/71.5 kB\u001b[0m \u001b[31m4.9 MB/s\u001b[0m eta \u001b[36m0:00:00\u001b[0m\n",
            "\u001b[?25hBuilding wheels for collected packages: pmtiles\n",
            "  Building wheel for pmtiles (setup.py) ... \u001b[?25l\u001b[?25hdone\n",
            "  Created wheel for pmtiles: filename=pmtiles-3.4.1-py3-none-any.whl size=15820 sha256=d458b2bb0e71d55b524e41949322faf0680b110f2fcf855b6783a02c1725657c\n",
            "  Stored in directory: /root/.cache/pip/wheels/72/b2/97/f91fbdf248dc7a07a6b589ec68f0e00ecfc46c1dc5a75a1e6e\n",
            "Successfully built pmtiles\n",
            "Installing collected packages: pmtiles, appdirs, aniso8601, whitebox, uvicorn, python-multipart, psygnal, jedi, htmltools, h3, geojson, color-operations, cligj, click-plugins, cachelib, asgiref, affine, watchfiles, starlette, server-thread, rasterio, questionary, pystac, shiny, morecantile, mapclassify, flask-cors, Flask-Caching, rioxarray, rio-tiler, rio-cogeo, flask-restx, pystac-client, localtileserver, ipyvue, anywidget, whiteboxgui, maplibre, ipyvuetify, leafmap\n",
            "Successfully installed Flask-Caching-2.3.0 affine-2.4.0 aniso8601-10.0.0 anywidget-0.9.13 appdirs-1.4.4 asgiref-3.8.1 cachelib-0.9.0 click-plugins-1.1.1 cligj-0.7.2 color-operations-0.1.6 flask-cors-5.0.0 flask-restx-1.3.0 geojson-3.2.0 h3-4.2.1 htmltools-0.6.0 ipyvue-1.11.2 ipyvuetify-1.10.0 jedi-0.19.2 leafmap-0.42.9 localtileserver-0.10.6 mapclassify-2.8.1 maplibre-0.2.8 morecantile-6.2.0 pmtiles-3.4.1 psygnal-0.12.0 pystac-1.12.1 pystac-client-0.8.6 python-multipart-0.0.20 questionary-2.1.0 rasterio-1.4.3 rio-cogeo-5.4.1 rio-tiler-7.4.0 rioxarray-0.18.2 server-thread-0.3.0 shiny-1.2.1 starlette-0.45.3 uvicorn-0.34.0 watchfiles-1.0.4 whitebox-2.3.5 whiteboxgui-2.3.0\n"
          ]
        }
      ],
      "source": [
        "%pip install \"leafmap[maplibre]\" scikit-learn"
      ]
    },
    {
      "cell_type": "markdown",
      "id": "2",
      "metadata": {
        "id": "2"
      },
      "source": [
        "## Predicting US Housing Prices Using PDFM and Zillow Data\n",
        "\n",
        "To follow along with the workshop, you will need to have access to the PDFM embeddings. Please request access to the PDFM embeddings [here](https://docs.google.com/forms/d/e/1FAIpQLSci4KYfdLfDhWzVTVoY_VPJ8jtQ9NGd95sQx-Cbji72JR3F6A/viewform). Download the embeddings and upload them to your Google Drive or Google Colab environment.\n",
        "\n",
        "This notebook is adapted from the [PDFM tutorial](https://github.com/google-research/population-dynamics/blob/master/notebooks/pdfm_earth_engine.ipynb). Credit goes to the authors of the PDFM tutorial."
      ]
    },
    {
      "cell_type": "markdown",
      "id": "3",
      "metadata": {
        "id": "3"
      },
      "source": [
        "### Import Libraries"
      ]
    },
    {
      "cell_type": "code",
      "execution_count": 3,
      "id": "4",
      "metadata": {
        "id": "4"
      },
      "outputs": [],
      "source": [
        "import os\n",
        "import pandas as pd\n",
        "from sklearn.model_selection import train_test_split\n",
        "from sklearn.linear_model import LinearRegression\n",
        "from sklearn.neighbors import KNeighborsRegressor\n",
        "from leafmap.common import evaluate_model, plot_actual_vs_predicted, download_file"
      ]
    },
    {
      "cell_type": "markdown",
      "id": "5",
      "metadata": {
        "id": "5"
      },
      "source": [
        "### Download Zillow Data\n",
        "\n",
        "The Zillow housing data can be downloaded from the [Zillow Research Data](https://www.zillow.com/research/data/) page. We will use the Zillow Home Value Index (ZHVI) data for single-family homes at the county level."
      ]
    },
    {
      "cell_type": "code",
      "execution_count": 5,
      "id": "6",
      "metadata": {
        "id": "6"
      },
      "outputs": [],
      "source": [
        "zhvi_url = \"https://github.com/opengeos/datasets/releases/download/us/zillow_home_value_index_by_zipcode.csv\"\n",
        "zhvi_file = \"zillow_home_value_index_by_zipcode.csv\""
      ]
    },
    {
      "cell_type": "code",
      "execution_count": 6,
      "id": "7",
      "metadata": {
        "id": "7",
        "outputId": "c7380fbf-5e47-4bd6-f32c-17ca4a7fd599",
        "colab": {
          "base_uri": "https://localhost:8080/"
        }
      },
      "outputs": [
        {
          "output_type": "stream",
          "name": "stderr",
          "text": [
            "Downloading...\n",
            "From: https://github.com/opengeos/datasets/releases/download/us/zillow_home_value_index_by_zipcode.csv\n",
            "To: /content/zillow_home_value_index_by_zipcode.csv\n",
            "100%|██████████| 92.4M/92.4M [00:00<00:00, 259MB/s]\n"
          ]
        }
      ],
      "source": [
        "if not os.path.exists(zhvi_file):\n",
        "    download_file(zhvi_url, zhvi_file)"
      ]
    },
    {
      "cell_type": "markdown",
      "id": "8",
      "metadata": {
        "id": "8"
      },
      "source": [
        "### Process Zillow Data\n",
        "\n",
        "The Zillow ZHVI dataset contains a `RegionName` column that corresponds to the zip code. We need to format the zip code to match the PDFM embeddings' `postal_code` format, which looks like `zip/XXXXX`."
      ]
    },
    {
      "cell_type": "code",
      "execution_count": null,
      "id": "9",
      "metadata": {
        "id": "9"
      },
      "outputs": [],
      "source": [
        "zhvi_df = pd.read_csv(zhvi_file, dtype={\"RegionName\": \"string\"})\n",
        "zhvi_df.index = zhvi_df[\"RegionName\"].apply(lambda x: f\"zip/{x}\")\n",
        "zhvi_df.head()"
      ]
    },
    {
      "cell_type": "markdown",
      "id": "10",
      "metadata": {
        "id": "10"
      },
      "source": [
        "### Request access to PDFM Embeddings\n",
        "\n",
        "Please request access to the PDFM embeddings [here](https://docs.google.com/forms/d/e/1FAIpQLSci4KYfdLfDhWzVTVoY_VPJ8jtQ9NGd95sQx-Cbji72JR3F6A/viewform). Download the embeddings, unzip the file, and upload the following files to Google Colab:\n",
        "\n",
        "- `zcta_embeddings.csv`\n",
        "- `county_embeddings.csv`\n",
        "- `county.geojson`\n"
      ]
    },
    {
      "cell_type": "code",
      "execution_count": null,
      "id": "11",
      "metadata": {
        "id": "11"
      },
      "outputs": [],
      "source": [
        "embeddings_file_path = \"zcta_embeddings.csv\""
      ]
    },
    {
      "cell_type": "code",
      "execution_count": null,
      "id": "12",
      "metadata": {
        "id": "12"
      },
      "outputs": [],
      "source": [
        "if not os.path.exists(embeddings_file_path):\n",
        "    raise FileNotFoundError(\"Please request the embeddings from Google\")"
      ]
    },
    {
      "cell_type": "markdown",
      "id": "13",
      "metadata": {
        "id": "13"
      },
      "source": [
        "### Load PDFM Embeddings\n",
        "\n",
        "We will load the PDFM embeddings from Google Colab where you saved the embeddings."
      ]
    },
    {
      "cell_type": "code",
      "execution_count": null,
      "id": "14",
      "metadata": {
        "id": "14"
      },
      "outputs": [],
      "source": [
        "zipcode_embeddings = pd.read_csv(embeddings_file_path).set_index(\"place\")\n",
        "zipcode_embeddings.head()"
      ]
    },
    {
      "cell_type": "markdown",
      "id": "15",
      "metadata": {
        "id": "15"
      },
      "source": [
        "### Join Zillow and PDFM Data\n",
        "\n",
        "We will join the Zillow and PDFM data using the GeoDataFrame index."
      ]
    },
    {
      "cell_type": "code",
      "execution_count": null,
      "id": "16",
      "metadata": {
        "id": "16"
      },
      "outputs": [],
      "source": [
        "data = zhvi_df.join(zipcode_embeddings, how=\"inner\")\n",
        "data.head()"
      ]
    },
    {
      "cell_type": "code",
      "execution_count": null,
      "id": "17",
      "metadata": {
        "id": "17"
      },
      "outputs": [],
      "source": [
        "embedding_features = [f\"feature{x}\" for x in range(330)]\n",
        "label = \"2025-01-31\""
      ]
    },
    {
      "cell_type": "code",
      "execution_count": null,
      "id": "18",
      "metadata": {
        "id": "18"
      },
      "outputs": [],
      "source": [
        "data = data.dropna(subset=[label])"
      ]
    },
    {
      "cell_type": "markdown",
      "id": "19",
      "metadata": {
        "id": "19"
      },
      "source": [
        "### Split Train and Test Data\n",
        "\n",
        "We will split the data into training and testing datasets using a 80-20 split. We will use the training data to train a machine learning model to predict housing prices."
      ]
    },
    {
      "cell_type": "code",
      "execution_count": null,
      "id": "20",
      "metadata": {
        "id": "20"
      },
      "outputs": [],
      "source": [
        "data = data[embedding_features + [label]]\n",
        "X = data[embedding_features]\n",
        "y = data[label]\n",
        "\n",
        "X_train, X_test, y_train, y_test = train_test_split(\n",
        "    X, y, test_size=0.2, random_state=42\n",
        ")"
      ]
    },
    {
      "cell_type": "code",
      "execution_count": null,
      "id": "21",
      "metadata": {
        "id": "21"
      },
      "outputs": [],
      "source": [
        "X_train.head()"
      ]
    },
    {
      "cell_type": "code",
      "execution_count": null,
      "id": "22",
      "metadata": {
        "id": "22"
      },
      "outputs": [],
      "source": [
        "y_train.head()"
      ]
    },
    {
      "cell_type": "markdown",
      "id": "23",
      "metadata": {
        "id": "23"
      },
      "source": [
        "### Fit Linear Regression Model\n",
        "\n",
        "We will fit a linear regression model to predict the Zillow Home Value Index (ZHVI) using the PDFM embeddings."
      ]
    },
    {
      "cell_type": "code",
      "execution_count": null,
      "id": "24",
      "metadata": {
        "id": "24"
      },
      "outputs": [],
      "source": [
        "# Initialize and train a simple linear regression model\n",
        "model = LinearRegression()\n",
        "model.fit(X_train, y_train)\n",
        "\n",
        "# Make predictions\n",
        "y_pred = model.predict(X_test)"
      ]
    },
    {
      "cell_type": "markdown",
      "id": "25",
      "metadata": {
        "id": "25"
      },
      "source": [
        "### Evaluate Linear Regression Model"
      ]
    },
    {
      "cell_type": "code",
      "execution_count": null,
      "id": "26",
      "metadata": {
        "id": "26"
      },
      "outputs": [],
      "source": [
        "evaluation_df = pd.DataFrame({\"y\": y_test, \"y_pred\": y_pred})\n",
        "metrics = evaluate_model(evaluation_df)\n",
        "print(metrics)"
      ]
    },
    {
      "cell_type": "code",
      "execution_count": null,
      "id": "27",
      "metadata": {
        "id": "27"
      },
      "outputs": [],
      "source": [
        "xy_lim = (0, 3_000_000)\n",
        "plot_actual_vs_predicted(\n",
        "    evaluation_df,\n",
        "    xlim=xy_lim,\n",
        "    ylim=xy_lim,\n",
        "    title=\"Actual vs Predicted Home Values\",\n",
        "    x_label=\"Actual Home Value\",\n",
        "    y_label=\"Predicted Home Value\",\n",
        ")"
      ]
    },
    {
      "cell_type": "markdown",
      "id": "28",
      "metadata": {
        "id": "28"
      },
      "source": [
        "![image](https://github.com/user-attachments/assets/286638f1-88b6-4327-a883-c4e4512fbcdb)"
      ]
    },
    {
      "cell_type": "markdown",
      "id": "29",
      "metadata": {
        "id": "29"
      },
      "source": [
        "### Fit K-Nearest Neighbors Model\n",
        "\n",
        "We will fit a K-Nearest Neighbors (KNN) model to predict the Zillow Home Value Index (ZHVI) using the PDFM embeddings."
      ]
    },
    {
      "cell_type": "code",
      "execution_count": null,
      "id": "30",
      "metadata": {
        "id": "30"
      },
      "outputs": [],
      "source": [
        "k = 5\n",
        "model = KNeighborsRegressor(n_neighbors=k)\n",
        "model.fit(X_train, y_train)\n",
        "\n",
        "y_pred = model.predict(X_test)"
      ]
    },
    {
      "cell_type": "markdown",
      "id": "31",
      "metadata": {
        "id": "31"
      },
      "source": [
        "### Evaluate K-Nearest Neighbors Model"
      ]
    },
    {
      "cell_type": "code",
      "execution_count": null,
      "id": "32",
      "metadata": {
        "id": "32"
      },
      "outputs": [],
      "source": [
        "evaluation_df = pd.DataFrame({\"y\": y_test, \"y_pred\": y_pred})\n",
        "metrics = evaluate_model(evaluation_df)\n",
        "print(metrics)"
      ]
    },
    {
      "cell_type": "code",
      "execution_count": null,
      "id": "33",
      "metadata": {
        "id": "33"
      },
      "outputs": [],
      "source": [
        "plot_actual_vs_predicted(\n",
        "    evaluation_df,\n",
        "    xlim=xy_lim,\n",
        "    ylim=xy_lim,\n",
        "    title=\"Actual vs Predicted Home Values\",\n",
        "    x_label=\"Actual Home Value\",\n",
        "    y_label=\"Predicted Home Value\",\n",
        ")"
      ]
    },
    {
      "cell_type": "markdown",
      "id": "34",
      "metadata": {
        "id": "34"
      },
      "source": [
        "## Mapping PDFM Features and Predicted Housing Prices"
      ]
    },
    {
      "cell_type": "markdown",
      "id": "35",
      "metadata": {
        "id": "35"
      },
      "source": [
        "### Import Libraries"
      ]
    },
    {
      "cell_type": "code",
      "execution_count": null,
      "id": "36",
      "metadata": {
        "id": "36"
      },
      "outputs": [],
      "source": [
        "import os\n",
        "import pandas as pd\n",
        "import geopandas as gpd\n",
        "from sklearn.model_selection import train_test_split\n",
        "from sklearn.linear_model import LinearRegression\n",
        "from sklearn.neighbors import KNeighborsRegressor\n",
        "from leafmap.common import evaluate_model, plot_actual_vs_predicted, download_file\n",
        "import leafmap.maplibregl as leafmap"
      ]
    },
    {
      "cell_type": "markdown",
      "id": "37",
      "metadata": {
        "id": "37"
      },
      "source": [
        "### Download Zillow Data\n",
        "\n",
        "Download the Zillow home value data at the county level."
      ]
    },
    {
      "cell_type": "code",
      "execution_count": null,
      "id": "38",
      "metadata": {
        "id": "38"
      },
      "outputs": [],
      "source": [
        "zhvi_url = \"https://github.com/opengeos/datasets/releases/download/us/zillow_home_value_index_by_county.csv\"\n",
        "zhvi_file = \"zillow_home_value_index_by_county.csv\""
      ]
    },
    {
      "cell_type": "code",
      "execution_count": null,
      "id": "39",
      "metadata": {
        "id": "39"
      },
      "outputs": [],
      "source": [
        "if not os.path.exists(zhvi_file):\n",
        "    download_file(zhvi_url, zhvi_file)"
      ]
    },
    {
      "cell_type": "markdown",
      "id": "40",
      "metadata": {
        "id": "40"
      },
      "source": [
        "### Process Zillow Data\n",
        "\n",
        "The county-level Zillow ZHVI dataset contains a `StateCodeFIPS` and `MunicipalCodeFIPS` column that corresponds to the state and county FIPS codes. We need to format the FIPS codes to match the PDFM embeddings' `postal_code` format, which looks like `geoId/XXYYY`."
      ]
    },
    {
      "cell_type": "code",
      "execution_count": null,
      "id": "41",
      "metadata": {
        "id": "41"
      },
      "outputs": [],
      "source": [
        "zhvi_df = pd.read_csv(\n",
        "    zhvi_file, dtype={\"StateCodeFIPS\": \"string\", \"MunicipalCodeFIPS\": \"string\"}\n",
        ")\n",
        "zhvi_df.index = \"geoId/\" + zhvi_df[\"StateCodeFIPS\"] + zhvi_df[\"MunicipalCodeFIPS\"]\n",
        "zhvi_df.head()"
      ]
    },
    {
      "cell_type": "markdown",
      "id": "42",
      "metadata": {
        "id": "42"
      },
      "source": [
        "### Request access to PDFM Embeddings\n",
        "\n",
        "The PDFM embeddings zip file you downloaded earlier contains a `county.geojson` file, which contains US county boundaries."
      ]
    },
    {
      "cell_type": "code",
      "execution_count": null,
      "id": "43",
      "metadata": {
        "id": "43"
      },
      "outputs": [],
      "source": [
        "county_geojson = \"county.geojson\"\n",
        "if not os.path.exists(county_geojson):\n",
        "    raise FileNotFoundError(\"Please request the embeddings from Google\")"
      ]
    },
    {
      "cell_type": "markdown",
      "id": "44",
      "metadata": {
        "id": "44"
      },
      "source": [
        "### Load county boundaries"
      ]
    },
    {
      "cell_type": "code",
      "execution_count": null,
      "id": "45",
      "metadata": {
        "id": "45"
      },
      "outputs": [],
      "source": [
        "county_gdf = gpd.read_file(county_geojson)\n",
        "county_gdf.set_index(\"place\", inplace=True)\n",
        "county_gdf.head()"
      ]
    },
    {
      "cell_type": "markdown",
      "id": "46",
      "metadata": {
        "id": "46"
      },
      "source": [
        "### Join home value data and county boundaries"
      ]
    },
    {
      "cell_type": "code",
      "execution_count": null,
      "id": "47",
      "metadata": {
        "id": "47"
      },
      "outputs": [],
      "source": [
        "df = zhvi_df.join(county_gdf)\n",
        "zhvi_gdf = gpd.GeoDataFrame(df, geometry=\"geometry\")\n",
        "zhvi_gdf.head()"
      ]
    },
    {
      "cell_type": "code",
      "execution_count": null,
      "id": "48",
      "metadata": {
        "id": "48"
      },
      "outputs": [],
      "source": [
        "column = \"2025-01-31\"\n",
        "gdf = zhvi_gdf[[\"RegionName\", \"State\", column, \"geometry\"]]\n",
        "gdf.head()"
      ]
    },
    {
      "cell_type": "markdown",
      "id": "49",
      "metadata": {
        "id": "49"
      },
      "source": [
        "### Visualize home values in 2D"
      ]
    },
    {
      "cell_type": "code",
      "execution_count": null,
      "id": "50",
      "metadata": {
        "id": "50"
      },
      "outputs": [],
      "source": [
        "m = leafmap.Map(style=\"liberty\")\n",
        "first_symbol_id = m.find_first_symbol_layer()[\"id\"]\n",
        "m.add_data(\n",
        "    gdf,\n",
        "    cmap=\"Blues\",\n",
        "    column=column,\n",
        "    legend_title=\"Median Home Value\",\n",
        "    name=\"Median Home Value\",\n",
        "    before_id=first_symbol_id,\n",
        ")\n",
        "m.add_layer_control()\n",
        "m"
      ]
    },
    {
      "cell_type": "markdown",
      "id": "51",
      "metadata": {
        "id": "51"
      },
      "source": [
        "![image](https://github.com/user-attachments/assets/df616803-87e9-4326-be8c-9de5a72a2d95)"
      ]
    },
    {
      "cell_type": "markdown",
      "id": "52",
      "metadata": {
        "id": "52"
      },
      "source": [
        "### Visualize home values in 3D"
      ]
    },
    {
      "cell_type": "code",
      "execution_count": null,
      "id": "53",
      "metadata": {
        "id": "53"
      },
      "outputs": [],
      "source": [
        "m = leafmap.Map(style=\"liberty\", pitch=60)\n",
        "m.add_data(\n",
        "    gdf,\n",
        "    cmap=\"Blues\",\n",
        "    column=column,\n",
        "    legend_title=\"Median Home Value\",\n",
        "    extrude=True,\n",
        "    scale_factor=3,\n",
        "    before_id=first_symbol_id,\n",
        "    name=\"Median Home Value\",\n",
        ")\n",
        "m.add_layer_control()\n",
        "m"
      ]
    },
    {
      "cell_type": "markdown",
      "id": "54",
      "metadata": {
        "id": "54"
      },
      "source": [
        "![image](https://github.com/user-attachments/assets/65f085bb-b781-41b8-8408-440ed202b766)"
      ]
    },
    {
      "cell_type": "markdown",
      "id": "55",
      "metadata": {
        "id": "55"
      },
      "source": [
        "### Load PDFM county embeddings"
      ]
    },
    {
      "cell_type": "code",
      "execution_count": null,
      "id": "56",
      "metadata": {
        "id": "56"
      },
      "outputs": [],
      "source": [
        "embeddings_file_path = \"county_embeddings.csv\""
      ]
    },
    {
      "cell_type": "code",
      "execution_count": null,
      "id": "57",
      "metadata": {
        "id": "57"
      },
      "outputs": [],
      "source": [
        "embeddings_df = pd.read_csv(embeddings_file_path).set_index(\"place\")\n",
        "embeddings_df.head()"
      ]
    },
    {
      "cell_type": "code",
      "execution_count": null,
      "id": "58",
      "metadata": {
        "id": "58"
      },
      "outputs": [],
      "source": [
        "df = embeddings_df.join(county_gdf)\n",
        "embeddings_gdf = gpd.GeoDataFrame(df, geometry=\"geometry\")\n",
        "embeddings_gdf.head()"
      ]
    },
    {
      "cell_type": "markdown",
      "id": "59",
      "metadata": {
        "id": "59"
      },
      "source": [
        "### Visualize PDFM features\n",
        "\n",
        "Select any of the 330 PDFM features to visualize."
      ]
    },
    {
      "cell_type": "code",
      "execution_count": null,
      "id": "60",
      "metadata": {
        "id": "60"
      },
      "outputs": [],
      "source": [
        "column = \"feature329\"  # Change this to the feature you want to use\n",
        "gdf = embeddings_gdf[[column, \"state\", \"county\", \"geometry\"]]\n",
        "gdf.head()"
      ]
    },
    {
      "cell_type": "code",
      "execution_count": null,
      "id": "61",
      "metadata": {
        "id": "61"
      },
      "outputs": [],
      "source": [
        "m = leafmap.Map(style=\"liberty\")\n",
        "m.add_data(\n",
        "    gdf,\n",
        "    cmap=\"Blues\",\n",
        "    column=column,\n",
        "    legend_title=column,\n",
        "    before_id=first_symbol_id,\n",
        "    name=column,\n",
        ")\n",
        "m.add_layer_control()\n",
        "m"
      ]
    },
    {
      "cell_type": "markdown",
      "id": "62",
      "metadata": {
        "id": "62"
      },
      "source": [
        "![image](https://github.com/user-attachments/assets/efa4983d-89d2-4dcc-9cd6-fefeee069bf7)"
      ]
    },
    {
      "cell_type": "code",
      "execution_count": null,
      "id": "63",
      "metadata": {
        "id": "63"
      },
      "outputs": [],
      "source": [
        "m = leafmap.Map(style=\"liberty\", pitch=60)\n",
        "m.add_data(\n",
        "    gdf,\n",
        "    cmap=\"Blues\",\n",
        "    column=column,\n",
        "    legend_title=column,\n",
        "    before_id=first_symbol_id,\n",
        "    name=column,\n",
        "    extrude=True,\n",
        "    scale_factor=0.00005,\n",
        ")\n",
        "m.add_layer_control()\n",
        "m"
      ]
    },
    {
      "cell_type": "markdown",
      "id": "64",
      "metadata": {
        "id": "64"
      },
      "source": [
        "![image](https://github.com/user-attachments/assets/fd1b233b-2be0-47c3-b2d0-f53601020604)"
      ]
    },
    {
      "cell_type": "markdown",
      "id": "65",
      "metadata": {
        "id": "65"
      },
      "source": [
        "### Join Zillow and PDFM Data"
      ]
    },
    {
      "cell_type": "code",
      "execution_count": null,
      "id": "66",
      "metadata": {
        "id": "66"
      },
      "outputs": [],
      "source": [
        "data = zhvi_df.join(embeddings_df, how=\"inner\")\n",
        "data.head()"
      ]
    },
    {
      "cell_type": "code",
      "execution_count": null,
      "id": "67",
      "metadata": {
        "id": "67"
      },
      "outputs": [],
      "source": [
        "embedding_features = [f\"feature{x}\" for x in range(330)]\n",
        "label = \"2025-01-31\"  # Change this to the date you want to predict"
      ]
    },
    {
      "cell_type": "code",
      "execution_count": null,
      "id": "68",
      "metadata": {
        "id": "68"
      },
      "outputs": [],
      "source": [
        "data = data.dropna(subset=[label])"
      ]
    },
    {
      "cell_type": "markdown",
      "id": "69",
      "metadata": {
        "id": "69"
      },
      "source": [
        "### Split Train and Test Data"
      ]
    },
    {
      "cell_type": "code",
      "execution_count": null,
      "id": "70",
      "metadata": {
        "id": "70"
      },
      "outputs": [],
      "source": [
        "data = data[embedding_features + [label]]\n",
        "X = data[embedding_features]\n",
        "y = data[label]\n",
        "\n",
        "X_train, X_test, y_train, y_test = train_test_split(\n",
        "    X, y, test_size=0.2, random_state=42\n",
        ")"
      ]
    },
    {
      "cell_type": "markdown",
      "id": "71",
      "metadata": {
        "id": "71"
      },
      "source": [
        "### Fit Linear Regression Model"
      ]
    },
    {
      "cell_type": "code",
      "execution_count": null,
      "id": "72",
      "metadata": {
        "id": "72"
      },
      "outputs": [],
      "source": [
        "model = LinearRegression()\n",
        "model.fit(X_train, y_train)\n",
        "y_pred = model.predict(X_test)"
      ]
    },
    {
      "cell_type": "markdown",
      "id": "73",
      "metadata": {
        "id": "73"
      },
      "source": [
        "### Evaluate Linear Regression Model"
      ]
    },
    {
      "cell_type": "code",
      "execution_count": null,
      "id": "74",
      "metadata": {
        "id": "74"
      },
      "outputs": [],
      "source": [
        "evaluation_df = pd.DataFrame({\"y\": y_test, \"y_pred\": y_pred})\n",
        "metrics = evaluate_model(evaluation_df)\n",
        "print(metrics)"
      ]
    },
    {
      "cell_type": "code",
      "execution_count": null,
      "id": "75",
      "metadata": {
        "id": "75"
      },
      "outputs": [],
      "source": [
        "xy_lim = (0, 1_000_000)\n",
        "plot_actual_vs_predicted(\n",
        "    evaluation_df,\n",
        "    xlim=xy_lim,\n",
        "    ylim=xy_lim,\n",
        "    title=\"Actual vs Predicted Home Values\",\n",
        "    x_label=\"Actual Home Value\",\n",
        "    y_label=\"Predicted Home Value\",\n",
        ")"
      ]
    },
    {
      "cell_type": "markdown",
      "id": "76",
      "metadata": {
        "id": "76"
      },
      "source": [
        "![image](https://github.com/user-attachments/assets/a16a15c6-508b-40c9-aa57-8e98b8b8e216)"
      ]
    },
    {
      "cell_type": "markdown",
      "id": "77",
      "metadata": {
        "id": "77"
      },
      "source": [
        "### Join predicted values with county boundaries"
      ]
    },
    {
      "cell_type": "code",
      "execution_count": null,
      "id": "78",
      "metadata": {
        "id": "78"
      },
      "outputs": [],
      "source": [
        "df = evaluation_df.join(gdf)\n",
        "df[\"difference\"] = df[\"y_pred\"] - df[\"y\"]\n",
        "evaluation_gdf = gpd.GeoDataFrame(df, geometry=\"geometry\")\n",
        "evaluation_gdf.drop(columns=[\"category\", \"color\", column], inplace=True)\n",
        "evaluation_gdf.head()"
      ]
    },
    {
      "cell_type": "markdown",
      "id": "79",
      "metadata": {
        "id": "79"
      },
      "source": [
        "### Visualize actual home values"
      ]
    },
    {
      "cell_type": "code",
      "execution_count": null,
      "id": "80",
      "metadata": {
        "id": "80"
      },
      "outputs": [],
      "source": [
        "m = leafmap.Map(style=\"liberty\", pitch=60)\n",
        "m.add_data(\n",
        "    evaluation_gdf,\n",
        "    cmap=\"Blues\",\n",
        "    column=\"y\",\n",
        "    legend_title=\"Actual Home Value\",\n",
        "    before_id=first_symbol_id,\n",
        "    name=\"Actual Home Value\",\n",
        "    extrude=True,\n",
        "    scale_factor=3,\n",
        ")\n",
        "m.add_layer_control()\n",
        "m"
      ]
    },
    {
      "cell_type": "markdown",
      "id": "81",
      "metadata": {
        "id": "81"
      },
      "source": [
        "![image](https://github.com/user-attachments/assets/a86401d5-defd-4277-877b-c8f8c5e07651)"
      ]
    },
    {
      "cell_type": "markdown",
      "id": "82",
      "metadata": {
        "id": "82"
      },
      "source": [
        "### Visualize predicted home values"
      ]
    },
    {
      "cell_type": "code",
      "execution_count": null,
      "id": "83",
      "metadata": {
        "id": "83"
      },
      "outputs": [],
      "source": [
        "m = leafmap.Map(style=\"liberty\", pitch=60)\n",
        "m.add_data(\n",
        "    evaluation_gdf,\n",
        "    cmap=\"Blues\",\n",
        "    column=\"y_pred\",\n",
        "    legend_title=\"Predicted Home Value\",\n",
        "    before_id=first_symbol_id,\n",
        "    name=\"Predicted Home Value\",\n",
        "    extrude=True,\n",
        "    scale_factor=3,\n",
        ")\n",
        "m.add_layer_control()\n",
        "m"
      ]
    },
    {
      "cell_type": "markdown",
      "id": "84",
      "metadata": {
        "id": "84"
      },
      "source": [
        "![image](https://github.com/user-attachments/assets/6bfe1c89-968e-4eef-84cc-98bcf07c8acb)"
      ]
    },
    {
      "cell_type": "markdown",
      "id": "85",
      "metadata": {
        "id": "85"
      },
      "source": [
        "### Visualize difference between predicted and actual home values"
      ]
    },
    {
      "cell_type": "code",
      "execution_count": null,
      "id": "86",
      "metadata": {
        "id": "86"
      },
      "outputs": [],
      "source": [
        "m = leafmap.Map(style=\"liberty\", pitch=60)\n",
        "m.add_data(\n",
        "    evaluation_gdf,\n",
        "    cmap=\"coolwarm\",\n",
        "    column=\"difference\",\n",
        "    legend_title=\"y_pred-y\",\n",
        "    before_id=first_symbol_id,\n",
        "    name=\"Difference\",\n",
        "    extrude=True,\n",
        "    scale_factor=3,\n",
        ")\n",
        "m.add_layer_control()\n",
        "m"
      ]
    },
    {
      "cell_type": "markdown",
      "id": "87",
      "metadata": {
        "id": "87"
      },
      "source": [
        "![image](https://github.com/user-attachments/assets/4ae58eb1-ab28-49e5-b352-d769a32d3e5c)"
      ]
    }
  ],
  "metadata": {
    "kernelspec": {
      "display_name": "geo",
      "language": "python",
      "name": "python3"
    },
    "language_info": {
      "codemirror_mode": {
        "name": "ipython",
        "version": 3
      },
      "file_extension": ".py",
      "mimetype": "text/x-python",
      "name": "python",
      "nbconvert_exporter": "python",
      "pygments_lexer": "ipython3",
      "version": "3.12.2"
    },
    "colab": {
      "provenance": [],
      "include_colab_link": true
    }
  },
  "nbformat": 4,
  "nbformat_minor": 5
}